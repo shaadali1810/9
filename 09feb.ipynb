{
 "cells": [
  {
   "cell_type": "code",
   "execution_count": 7,
   "id": "be2cb976-8fb5-4c3d-84cc-4ff7872bf96f",
   "metadata": {},
   "outputs": [],
   "source": [
    "#1\n",
    "class vehicle:\n",
    "    def __init__(self,name_of_vehicle,max_speed,average_of_vehicle):\n",
    "        self.name_of_vehicle= name_of_vehicle\n",
    "        self.max_speed=max_speed\n",
    "        self.average_of_vehicle=average_of_vehicle\n",
    "        \n",
    "        \n",
    "        \n",
    "    def display(self):\n",
    "        self.name_of_vehicle,self.max_speed,self.average_of_vehicle\n",
    "        \n",
    "        \n",
    "        "
   ]
  },
  {
   "cell_type": "code",
   "execution_count": 8,
   "id": "41f66424-2617-4d12-b727-79a5e47b1c32",
   "metadata": {},
   "outputs": [],
   "source": [
    "\n",
    "\n",
    "\n",
    "class capacity_car(vehicle):\n",
    "    def __init__(self,name_of_vehicle,max_speed,average_of_vehicle,capacity):\n",
    "        self.capacity= capacity\n",
    "        \n",
    "        vehicle.__init__(self,name_of_vehicle,max_speed,average_of_vehicle)"
   ]
  },
  {
   "cell_type": "code",
   "execution_count": 9,
   "id": "0b2d3838-87c1-402a-9bb4-46f4ed6296d2",
   "metadata": {},
   "outputs": [],
   "source": [
    " a= capacity_car(\"maruti\",45,56,99)"
   ]
  },
  {
   "cell_type": "code",
   "execution_count": 10,
   "id": "893037ae-c8d7-4227-a233-12c1dd27ea7f",
   "metadata": {},
   "outputs": [],
   "source": [
    "a.display()"
   ]
  },
  {
   "cell_type": "code",
   "execution_count": 14,
   "id": "985503bc-9149-423e-9eab-ad76f97d7d83",
   "metadata": {},
   "outputs": [
    {
     "data": {
      "text/plain": [
       "'A class can be derived from more than one superclass in Python. This is called multiple inheritance.\\n\\nFor example, A class Bat is derived from superclasses Mammal and WingedAnimal. It makes sense because bat is a mammal as well as a winged animal'"
      ]
     },
     "execution_count": 14,
     "metadata": {},
     "output_type": "execute_result"
    }
   ],
   "source": [
    "#3\n",
    "'''A class can be derived from more than one superclass in Python. This is called multiple inheritance.\n",
    "\n",
    "For example, A class Bat is derived from superclasses Mammal and WingedAnimal. It makes sense because bat is a mammal as well as a winged animal'''"
   ]
  },
  {
   "cell_type": "code",
   "execution_count": 15,
   "id": "f43ce242-4942-4329-b0e4-7e333bcaaf35",
   "metadata": {},
   "outputs": [],
   "source": [
    "class mammal:\n",
    "    def mammal_info(self):\n",
    "        print(\"mammals can give direct birth\")\n",
    "class winged_animal:\n",
    "    def winged_animal_info(self):\n",
    "        print(\"winged animal can flap\")\n",
    "class Bat(mammal,winged_animal):\n",
    "    pass\n",
    "    \n",
    "        \n",
    "    "
   ]
  },
  {
   "cell_type": "code",
   "execution_count": 16,
   "id": "6e818d14-2b28-4add-b55f-e004b3528273",
   "metadata": {},
   "outputs": [],
   "source": [
    "b1= Bat()\n"
   ]
  },
  {
   "cell_type": "code",
   "execution_count": 17,
   "id": "c740b650-7317-4ecb-83d8-0af04034b841",
   "metadata": {},
   "outputs": [
    {
     "data": {
      "text/plain": [
       "<bound method mammal.mammal_info of <__main__.Bat object at 0x7fb5bc252800>>"
      ]
     },
     "execution_count": 17,
     "metadata": {},
     "output_type": "execute_result"
    }
   ],
   "source": [
    "b1.mammal_info"
   ]
  },
  {
   "cell_type": "code",
   "execution_count": 22,
   "id": "4f5e8365-c555-465e-acd2-8a421c75394a",
   "metadata": {},
   "outputs": [
    {
     "data": {
      "text/plain": [
       "<bound method winged_animal.winged_animal_info of <__main__.Bat object at 0x7fb5bc252800>>"
      ]
     },
     "execution_count": 22,
     "metadata": {},
     "output_type": "execute_result"
    }
   ],
   "source": [
    " b1.winged_animal_info"
   ]
  },
  {
   "cell_type": "code",
   "execution_count": 29,
   "id": "7fa09968-6a59-4e7c-afee-7ec7336d3d61",
   "metadata": {},
   "outputs": [
    {
     "name": "stdout",
     "output_type": "stream",
     "text": [
      "mammals can give direct birth\n",
      "None\n"
     ]
    }
   ],
   "source": [
    "print(b1.mammal_info())"
   ]
  },
  {
   "cell_type": "code",
   "execution_count": 23,
   "id": "5bfa0d0a-b7ad-403f-890e-9c059779dc7f",
   "metadata": {},
   "outputs": [],
   "source": [
    "#4'''When you define a class in object-oriented programming (OOP), you’ll likely end up with some instance and class attributes. These attributes are just variables that you can access through the instance, the class, or both.'''"
   ]
  },
  {
   "cell_type": "code",
   "execution_count": 24,
   "id": "8ccc7e9f-9daf-4dd2-9099-f94391451000",
   "metadata": {},
   "outputs": [],
   "source": [
    "class pwskill:\n",
    "    def __init__(self,age = 0):\n",
    "        self._age = age\n",
    "    def get_age(self):\n",
    "        return self._age\n",
    "    def set_age(self,x):\n",
    "        self._age = x\n",
    "        \n"
   ]
  },
  {
   "cell_type": "code",
   "execution_count": 25,
   "id": "fc5f801c-0dd4-44b7-8b02-c780de7ba836",
   "metadata": {},
   "outputs": [],
   "source": [
    "shaad = pwskill()"
   ]
  },
  {
   "cell_type": "code",
   "execution_count": 26,
   "id": "54f1d7c2-331d-4b5e-8118-e1f284580e76",
   "metadata": {},
   "outputs": [],
   "source": [
    "shaad.set_age(22)"
   ]
  },
  {
   "cell_type": "code",
   "execution_count": 27,
   "id": "16d6299d-1142-49eb-85ea-02c4fd97b3c8",
   "metadata": {},
   "outputs": [
    {
     "name": "stdout",
     "output_type": "stream",
     "text": [
      "22\n"
     ]
    }
   ],
   "source": [
    "print(shaad.get_age())"
   ]
  },
  {
   "cell_type": "code",
   "execution_count": 30,
   "id": "86d76ded-08a3-4c30-b275-b92fe5cf89ed",
   "metadata": {},
   "outputs": [
    {
     "data": {
      "text/plain": [
       "\"\\nIn this case, the child class's method is called the overriding method and the parent class's method is called the overriden method.\""
      ]
     },
     "execution_count": 30,
     "metadata": {},
     "output_type": "execute_result"
    }
   ],
   "source": [
    "#5'''Method Overriding in Python is an OOPs concept closely related to inheritance. When a child class method overrides(or, provides it's own implementation) the parent class method of the same name, parameters and return type, it is known as method overriding.\n",
    "\n",
    "'''\n",
    "In this case, the child class's method is called the overriding method and the parent class's method is called the overriden method.'''"
   ]
  },
  {
   "cell_type": "code",
   "execution_count": 31,
   "id": "eb11b3fe-ba42-4b3a-b760-eff52af24019",
   "metadata": {},
   "outputs": [],
   "source": [
    "class parent ():\n",
    "    def __init__(self):\n",
    "        self.value = \"Inside Parent\"\n",
    "        \n",
    "    def show(self):\n",
    "        print(self.value)\n",
    "        \n",
    "class child(parent):\n",
    "    \n",
    "    def __init__(self):\n",
    "        self.value = \"Inside Child\"\n",
    "        \n",
    "    def show(self):\n",
    "        print(self.value)\n",
    "        \n",
    "    \n",
    "        "
   ]
  },
  {
   "cell_type": "code",
   "execution_count": 35,
   "id": "ebaa35ae-4366-4913-83bf-922ae8734e22",
   "metadata": {},
   "outputs": [],
   "source": [
    "obj1 = parent()"
   ]
  },
  {
   "cell_type": "code",
   "execution_count": 36,
   "id": "f97597c1-c82f-4cef-8911-808ed597eb96",
   "metadata": {},
   "outputs": [],
   "source": [
    "obj2 = child()"
   ]
  },
  {
   "cell_type": "code",
   "execution_count": 37,
   "id": "a6da47f0-3e44-4f6f-9110-ae7e01b7a27f",
   "metadata": {},
   "outputs": [
    {
     "name": "stdout",
     "output_type": "stream",
     "text": [
      "Inside Parent\n"
     ]
    }
   ],
   "source": [
    "obj1.show()"
   ]
  },
  {
   "cell_type": "code",
   "execution_count": 38,
   "id": "00b2d448-8b4a-4b58-8f64-25940b43625b",
   "metadata": {},
   "outputs": [
    {
     "name": "stdout",
     "output_type": "stream",
     "text": [
      "Inside Child\n"
     ]
    }
   ],
   "source": [
    "obj2.show()"
   ]
  },
  {
   "cell_type": "code",
   "execution_count": null,
   "id": "bc854cea-c8ab-4168-9d3c-bc96b9654bab",
   "metadata": {},
   "outputs": [],
   "source": []
  }
 ],
 "metadata": {
  "kernelspec": {
   "display_name": "Python 3 (ipykernel)",
   "language": "python",
   "name": "python3"
  },
  "language_info": {
   "codemirror_mode": {
    "name": "ipython",
    "version": 3
   },
   "file_extension": ".py",
   "mimetype": "text/x-python",
   "name": "python",
   "nbconvert_exporter": "python",
   "pygments_lexer": "ipython3",
   "version": "3.10.8"
  }
 },
 "nbformat": 4,
 "nbformat_minor": 5
}
